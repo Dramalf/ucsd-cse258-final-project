{
 "cells": [
  {
   "cell_type": "code",
   "execution_count": 1,
   "metadata": {},
   "outputs": [
    {
     "name": "stdout",
     "output_type": "stream",
     "text": [
      "../dataset/IN_category_id.json\n",
      "../dataset/MXvideos.csv\n",
      "../dataset/RU_category_id.json\n",
      "../dataset/JP_category_id.json\n",
      "../dataset/FR_category_id.json\n",
      "../dataset/INvideos.csv\n",
      "../dataset/GB_category_id.json\n",
      "../dataset/DEvideos.csv\n",
      "../dataset/JPvideos.csv\n",
      "../dataset/KR_category_id.json\n",
      "../dataset/KRvideos.csv\n",
      "../dataset/CAvideos.csv\n",
      "../dataset/MX_category_id.json\n",
      "../dataset/RUvideos.csv\n",
      "../dataset/FRvideos.csv\n",
      "../dataset/CA_category_id.json\n",
      "../dataset/US_category_id.json\n",
      "../dataset/DE_category_id.json\n",
      "../dataset/USvideos.csv\n",
      "../dataset/GBvideos.csv\n"
     ]
    }
   ],
   "source": [
    "import os\n",
    "import matplotlib.pyplot as plt\n",
    "import seaborn as sns\n",
    "import pandas as pd\n",
    "import numpy as np\n",
    "import json\n",
    "for dirname, _, filenames in os.walk('../dataset'):\n",
    "    for filename in filenames:\n",
    "        print(os.path.join(dirname, filename))"
   ]
  },
  {
   "cell_type": "code",
   "execution_count": 2,
   "metadata": {},
   "outputs": [],
   "source": [
    "contries=['IN','MX','RU','JP','FR','DE','KR','CA','US','GB']"
   ]
  },
  {
   "cell_type": "code",
   "execution_count": 6,
   "metadata": {},
   "outputs": [],
   "source": [
    "pd_dict={}\n",
    "category_dict={}\n",
    "for country in contries:\n",
    "    pd_dict[country]={}\n",
    "    video_data=pd.read_csv(f'../dataset/{country}videos.csv',encoding_errors='ignore')\n",
    "    pd_dict[country]=video_data\n",
    "    with open(f'../dataset/{country}_category_id.json', 'r') as file:\n",
    "        data = json.load(file)\n",
    "        category_dict[country]={}\n",
    "        for item in data['items']:\n",
    "            category_dict[country][int(item['id'])]=item['snippet']['title']"
   ]
  },
  {
   "cell_type": "code",
   "execution_count": 13,
   "metadata": {},
   "outputs": [
    {
     "name": "stdout",
     "output_type": "stream",
     "text": [
      "1: Film & Animation\n",
      "2: Autos & Vehicles\n",
      "10: Music\n",
      "15: Pets & Animals\n",
      "17: Sports\n",
      "18: Short Movies\n",
      "19: Travel & Events\n",
      "20: Gaming\n",
      "21: Videoblogging\n",
      "22: People & Blogs\n",
      "23: Comedy\n",
      "24: Entertainment\n",
      "25: News & Politics\n",
      "26: Howto & Style\n",
      "27: Education\n",
      "28: Science & Technology\n",
      "30: Movies\n",
      "31: Anime/Animation\n",
      "32: Action/Adventure\n",
      "33: Classics\n",
      "34: Comedy\n",
      "35: Documentary\n",
      "36: Drama\n",
      "37: Family\n",
      "38: Foreign\n",
      "39: Horror\n",
      "40: Sci-Fi/Fantasy\n",
      "41: Thriller\n",
      "42: Shorts\n",
      "43: Shows\n",
      "44: Trailers\n",
      "{1, 2, 10, 15, 17, 18, 19, 20, 21, 22, 23, 24, 25, 26, 27, 28, 30, 31, 32, 33, 34, 35, 36, 37, 38, 39, 40, 41, 42, 43, 44}\n"
     ]
    }
   ],
   "source": [
    "common_ids = set(category_dict[contries[0]].keys())\n",
    "for country in contries[1:]:\n",
    "    common_ids = common_ids.intersection(category_dict[country].keys())\n",
    "for id in common_ids:\n",
    "    print(f'{id}: {category_dict[contries[0]][id]}')\n",
    "# Every country has the same categories(31)\n",
    "print(common_ids)"
   ]
  },
  {
   "cell_type": "code",
   "execution_count": 18,
   "metadata": {},
   "outputs": [
    {
     "data": {
      "text/plain": [
       "31"
      ]
     },
     "execution_count": 18,
     "metadata": {},
     "output_type": "execute_result"
    }
   ],
   "source": []
  },
  {
   "cell_type": "code",
   "execution_count": null,
   "metadata": {},
   "outputs": [],
   "source": []
  }
 ],
 "metadata": {
  "kernelspec": {
   "display_name": "cse258",
   "language": "python",
   "name": "python3"
  },
  "language_info": {
   "codemirror_mode": {
    "name": "ipython",
    "version": 3
   },
   "file_extension": ".py",
   "mimetype": "text/x-python",
   "name": "python",
   "nbconvert_exporter": "python",
   "pygments_lexer": "ipython3",
   "version": "3.9.19"
  }
 },
 "nbformat": 4,
 "nbformat_minor": 2
}
